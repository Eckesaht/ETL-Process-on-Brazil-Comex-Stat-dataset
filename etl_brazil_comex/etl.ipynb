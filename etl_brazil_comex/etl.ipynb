{
 "cells": [
  {
   "cell_type": "markdown",
   "metadata": {},
   "source": [
    "Setup and import libraries"
   ]
  },
  {
   "cell_type": "code",
   "execution_count": null,
   "metadata": {},
   "outputs": [],
   "source": [
    "import os\n",
    "import pandas as pd\n",
    "import numpy as np\n",
    "\n",
    "# Paths of the files to be used for formatting. (Specify with extension)\n",
    "IMPORT_FILE = r'D:\\IMP_2022.csv'\n",
    "EXPORT_FILE = r'D:\\EXP_2022.csv'\n",
    "\n",
    "# Folder where the files will be saved.\n",
    "EXPORT_DIRECTORY = r'C:\\Users\\Eckesaht\\Desktop\\as'"
   ]
  },
  {
   "cell_type": "markdown",
   "metadata": {},
   "source": [
    "Extract"
   ]
  },
  {
   "cell_type": "code",
   "execution_count": null,
   "metadata": {},
   "outputs": [],
   "source": [
    "# Reading the data from CSV files\n",
    "imp = pd.read_csv(IMPORT_FILE, sep=';')\n",
    "exp = pd.read_csv(EXPORT_FILE, sep=';')"
   ]
  },
  {
   "cell_type": "markdown",
   "metadata": {},
   "source": [
    "Transform"
   ]
  },
  {
   "cell_type": "code",
   "execution_count": null,
   "metadata": {},
   "outputs": [],
   "source": [
    "# Iterate over each unique state code\n",
    "for uf in UFS:\n",
    "    # Filter data for the current state\n",
    "    filtered_uf_imp = imp[imp['SG_UF_NCM'] == uf]\n",
    "    filtered_uf_exp = exp[exp['SG_UF_NCM'] == uf]\n",
    "\n",
    "    # Pivot tables for import and export data\n",
    "    filtered_uf_imp = filtered_uf_imp.pivot_table(index=['NCM', 'SG_UF_NCM'], columns='CO_MES', values='VL_FOB', aggfunc='sum').reset_index()\n",
    "    filtered_uf_exp = filtered_uf_exp.pivot_table(index=['NCM', 'SG_UF_NCM'], columns='CO_MES', values='VL_FOB', aggfunc='sum').reset_index()\n",
    "\n",
    "    # Reorder columns\n",
    "    specified_order_imp = ['NCM', 'Imp_jan', 'Imp_fev', 'Imp_mar', 'Imp_abr', 'Imp_mai', 'Imp_jun', 'Imp_jul', 'Imp_ago', 'Imp_set', 'Imp_out', 'Imp_nov', 'Imp_dez']\n",
    "    specified_order_exp = ['NCM', 'Exp_jan', 'Exp_fev', 'Exp_mar', 'Exp_abr', 'Exp_mai', 'Exp_jun', 'Exp_jul', 'Exp_ago', 'Exp_set', 'Exp_out', 'Exp_nov', 'Exp_dez']\n",
    "    filtered_uf_imp = filtered_uf_imp.reindex(columns=specified_order_imp)\n",
    "    filtered_uf_exp = filtered_uf_exp.reindex(columns=specified_order_exp)\n",
    "\n",
    "    # Merging import and export data\n",
    "    merged_sheet = pd.merge(filtered_uf_imp, filtered_uf_exp, on=['NCM'], how='outer')\n",
    "\n",
    "    # Organizing columns in the correct order\n",
    "    correct_order = ['NCM', 'Exp_jan', 'Imp_jan', 'Net_jan', 'Exp_fev', 'Imp_fev', 'Net_fev', 'Exp_mar', 'Imp_mar', 'Net_mar', 'Exp_abr', 'Imp_abr', 'Net_abr', 'Exp_mai', 'Imp_mai', 'Net_mai', 'Exp_jun', 'Imp_jun', 'Net_jun', 'Exp_jul', 'Imp_jul', 'Net_jul', 'Exp_ago', 'Imp_ago', 'Net_ago', 'Exp_set', 'Imp_set', 'Net_set', 'Exp_out', 'Imp_out', 'Net_out', 'Exp_nov', 'Imp_nov', 'Net_nov', 'Exp_dez', 'Imp_dez', 'Net_dez', 'Exp_2022', 'Imp_2022', 'Net_2022']\n",
    "    merged_sheet = merged_sheet.reindex(columns=correct_order)\n",
    "\n",
    "    # Calculating net values\n",
    "    for month in ['jan', 'fev', 'mar', 'abr', 'mai', 'jun', 'jul', 'ago', 'set', 'out', 'nov', 'dez']:\n",
    "        net_col = f'Net_{month}'\n",
    "        exp_col = f'Exp_{month}'\n",
    "        imp_col = f'Imp_{month}'\n",
    "\n",
    "        # Fill NaN values with zeros for calculation\n",
    "        merged_sheet[exp_col] = merged_sheet[exp_col].fillna(0)\n",
    "        merged_sheet[imp_col] = merged_sheet[imp_col].fillna(0)\n",
    "\n",
    "        # Calculate net values\n",
    "        merged_sheet[net_col] = merged_sheet[exp_col] - merged_sheet[imp_col]\n",
    "\n",
    "    # Summing up yearly values\n",
    "    merged_sheet['Exp_2022'] = merged_sheet.filter(like='Exp_').sum(axis=1)\n",
    "    merged_sheet['Imp_2022'] = merged_sheet.filter(like='Imp_').sum(axis=1)\n",
    "    merged_sheet['Net_2022'] = merged_sheet.filter(like='Net_').sum(axis=1)"
   ]
  },
  {
   "cell_type": "markdown",
   "metadata": {},
   "source": [
    "Load"
   ]
  },
  {
   "cell_type": "code",
   "execution_count": null,
   "metadata": {},
   "outputs": [],
   "source": [
    "# Exporting the merged data to a CSV file\n",
    "export_path = os.path.join(EXPORT_DIRECTORY, f'{uf}.csv')\n",
    "merged_sheet.to_csv(export_path, index=False, sep=',')"
   ]
  }
 ],
 "metadata": {
  "language_info": {
   "name": "python"
  }
 },
 "nbformat": 4,
 "nbformat_minor": 2
}
